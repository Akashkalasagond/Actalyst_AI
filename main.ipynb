{
 "cells": [
  {
   "cell_type": "markdown",
   "id": "0d9f4829-f16f-44d9-a047-77d58b7c3013",
   "metadata": {},
   "source": [
    "## Actalyst AI Engineer Task"
   ]
  },
  {
   "cell_type": "markdown",
   "id": "5c3d8713-b773-41d4-b5a3-359093e07fb3",
   "metadata": {},
   "source": [
    "#### Step 01: Extract the relevant data from the Aluminium industry (precisely  Title, Summary and Date) \n",
    "#### Step 02: convert the scrap data to vector embeddings using text-embedding-ada-002\n",
    "#### Step 03: Created Streamlit app that loads the vector embeddings\n",
    "#### Step 04: Deployment"
   ]
  },
  {
   "cell_type": "markdown",
   "id": "dfe5e7d9-3dc3-4046-97f0-c46be9368a9f",
   "metadata": {},
   "source": [
    "## This code is to extract the last 45 days news as well the latest updates too"
   ]
  },
  {
   "cell_type": "code",
   "execution_count": 32,
   "id": "fead5154-df39-4b6c-8bd7-ceb4b1394975",
   "metadata": {},
   "outputs": [
    {
     "name": "stdout",
     "output_type": "stream",
     "text": [
      "Articles loaded: 20, Last article date: 2024-07-30 13:28:00\n",
      "Articles loaded: 30, Last article date: 2024-07-26 16:54:00\n",
      "Articles loaded: 40, Last article date: 2024-07-25 06:56:00\n",
      "Articles loaded: 50, Last article date: 2024-07-23 07:14:00\n",
      "Articles loaded: 60, Last article date: 2024-07-22 07:04:00\n",
      "Articles loaded: 70, Last article date: 2024-07-18 13:44:00\n",
      "Articles loaded: 80, Last article date: 2024-07-16 07:26:00\n",
      "Articles loaded: 90, Last article date: 2024-07-12 07:11:00\n",
      "Articles loaded: 100, Last article date: 2024-07-10 07:11:00\n",
      "Articles loaded: 110, Last article date: 2024-07-05 14:30:00\n",
      "Articles loaded: 120, Last article date: 2024-07-03 11:36:00\n",
      "Articles loaded: 130, Last article date: 2024-07-02 07:18:00\n",
      "Articles loaded: 140, Last article date: 2024-06-28 07:17:00\n",
      "Articles loaded: 150, Last article date: 2024-06-26 08:54:00\n",
      "Articles loaded: 160, Last article date: 2024-06-24 07:31:00\n",
      "Articles loaded: 170, Last article date: 2024-06-20 11:07:00\n",
      "Articles loaded: 180, Last article date: 2024-06-19 08:32:00\n",
      "Titles length: 190\n",
      "Summaries length: 187\n",
      "Dates length: 190\n",
      "Data saved to news_data_filtered.csv\n"
     ]
    }
   ],
   "source": [
    "from selenium import webdriver\n",
    "from selenium.webdriver.common.by import By\n",
    "from selenium.webdriver.chrome.service import Service\n",
    "from webdriver_manager.chrome import ChromeDriverManager\n",
    "import time\n",
    "import csv\n",
    "from datetime import datetime\n",
    "\n",
    "# Initialize the Chrome driver\n",
    "service = Service(ChromeDriverManager().install())\n",
    "driver = webdriver.Chrome(service=service)\n",
    "\n",
    "# Open the webpage\n",
    "driver.get(\"https://news.metal.com/list/industry/aluminium\")\n",
    "\n",
    "# Define the date range\n",
    "start_date_str = \"Jun 18, 2024 07:00\"\n",
    "end_date_str = \"Aug 2, 2024 14:41\"\n",
    "start_date = datetime.strptime(start_date_str, \"%b %d, %Y %H:%M\")\n",
    "end_date = datetime.strptime(end_date_str, \"%b %d, %Y %H:%M\")\n",
    "\n",
    "# Function to load news by clicking the \"Load More\" button until a certain date\n",
    "def load_news(driver, stop_date):\n",
    "    articles_loaded = 0\n",
    "    last_article_date = datetime.max  # Initialize with a future date\n",
    "    \n",
    "    while True:\n",
    "        try:\n",
    "            # Find the \"Load More\" button\n",
    "            load_more_button = driver.find_element(By.CSS_SELECTOR, \".footer___PvIjk\")\n",
    "            # Click the \"Load More\" button\n",
    "            load_more_button.click()\n",
    "            # Wait for the new content to load\n",
    "            time.sleep(2)\n",
    "            \n",
    "            # Check dates of the newly loaded articles\n",
    "            titles = driver.find_elements(By.CSS_SELECTOR, \".title___1baLV\")\n",
    "            dates = driver.find_elements(By.CSS_SELECTOR, \".date___3dzkE\")\n",
    "            if not dates:\n",
    "                break\n",
    "            \n",
    "            for i in range(len(dates)):\n",
    "                date_str = dates[i].text\n",
    "                article_date = parse_date(date_str)\n",
    "                if article_date:\n",
    "                    last_article_date = min(last_article_date, article_date)\n",
    "            \n",
    "            # Stop loading more if the last article date is before the stop_date\n",
    "            if last_article_date < stop_date:\n",
    "                break\n",
    "\n",
    "            articles_loaded = len(titles)\n",
    "            print(f\"Articles loaded: {articles_loaded}, Last article date: {last_article_date}\")\n",
    "\n",
    "        except Exception as e:\n",
    "            print(f\"An error occurred while loading more articles: {e}\")\n",
    "            break\n",
    "\n",
    "# Function to parse date from the string\n",
    "def parse_date(date_str):\n",
    "    try:\n",
    "        # Adjust the format according to how the date is represented on the website\n",
    "        return datetime.strptime(date_str, \"%b %d, %Y %H:%M\")\n",
    "    except ValueError:\n",
    "        return None\n",
    "\n",
    "# Load all news articles\n",
    "load_news(driver, start_date)\n",
    "\n",
    "# Extract the news articles\n",
    "titles = driver.find_elements(By.CSS_SELECTOR, \".title___1baLV\")\n",
    "summaries = driver.find_elements(By.CSS_SELECTOR, \".description___z7ktb.descriptionspec___lj3uG\")\n",
    "dates = driver.find_elements(By.CSS_SELECTOR, \".date___3dzkE\")\n",
    "\n",
    "# Print lengths and HTML content for debugging\n",
    "print(f\"Titles length: {len(titles)}\")\n",
    "print(f\"Summaries length: {len(summaries)}\")\n",
    "print(f\"Dates length: {len(dates)}\")\n",
    "\n",
    "# Filter and prepare the data for CSV\n",
    "news_data = []\n",
    "for i in range(min(len(titles), len(summaries), len(dates))):\n",
    "    title = titles[i].text\n",
    "    summary = summaries[i].text if i < len(summaries) else \"No summary\"\n",
    "    date_str = dates[i].text\n",
    "    article_date = parse_date(date_str)\n",
    "    \n",
    "    # Store news if it's within the date range or future updates\n",
    "    if article_date and start_date <= article_date <= end_date:\n",
    "        news_data.append([title, summary, date_str])\n",
    "\n",
    "# Save the data to a CSV file\n",
    "csv_file = \"news_data_filtered.csv\"\n",
    "if news_data:\n",
    "    with open(csv_file, mode='w', newline='', encoding='utf-8') as file:\n",
    "        writer = csv.writer(file)\n",
    "        writer.writerow([\"Title\", \"Summary\", \"Date\"])\n",
    "        writer.writerows(news_data)\n",
    "    print(f\"Data saved to {csv_file}\")\n",
    "else:\n",
    "    print(\"No data found for the specified date range.\")\n",
    "\n",
    "# Close the driver\n",
    "driver.quit()\n"
   ]
  },
  {
   "cell_type": "markdown",
   "id": "6daca7f7-2764-49a7-9e69-feec9b8b2d6d",
   "metadata": {},
   "source": [
    "### Code to generate Data Embeddings"
   ]
  },
  {
   "cell_type": "code",
   "execution_count": 40,
   "id": "e6123110-22bf-4f34-86d0-cca997f82451",
   "metadata": {},
   "outputs": [
    {
     "name": "stderr",
     "output_type": "stream",
     "text": [
      "100%|████████████████████████████████████████████████████████████████████████████████| 187/187 [01:07<00:00,  2.75it/s]\n"
     ]
    }
   ],
   "source": [
    "import openai\n",
    "import json\n",
    "import os\n",
    "from tqdm import tqdm\n",
    "import numpy as np\n",
    "from dotenv import load_dotenv\n",
    "\n",
    "# Load environment variables\n",
    "load_dotenv()\n",
    "\n",
    "# API key setup\n",
    "openai.api_key = os.getenv('OPENAI_API_KEY')\n",
    "\n",
    "# Load the metadata\n",
    "with open('metadata.json', 'r') as f:\n",
    "    metadata = json.load(f)\n",
    "\n",
    "# Function to generate embeddings\n",
    "def get_embedding(text):\n",
    "    response = openai.Embedding.create(\n",
    "        input=text,\n",
    "        model=\"text-embedding-ada-002\"\n",
    "    )\n",
    "    return response['data'][0]['embedding']\n",
    "\n",
    "# Generate embeddings for the data\n",
    "for item in tqdm(metadata):\n",
    "    item['embedding'] = get_embedding(item['summary'])\n",
    "\n",
    "# Save the embeddings\n",
    "with open('embeddings_with_metadata.json', 'w') as f:\n",
    "    json.dump(metadata, f)\n"
   ]
  },
  {
   "cell_type": "markdown",
   "id": "cdd38a48-52f2-4869-9120-e6d1895bb27f",
   "metadata": {},
   "source": [
    "#### The Streamlit code is in the directory app.py"
   ]
  }
 ],
 "metadata": {
  "kernelspec": {
   "display_name": "Python 3 (ipykernel)",
   "language": "python",
   "name": "python3"
  },
  "language_info": {
   "codemirror_mode": {
    "name": "ipython",
    "version": 3
   },
   "file_extension": ".py",
   "mimetype": "text/x-python",
   "name": "python",
   "nbconvert_exporter": "python",
   "pygments_lexer": "ipython3",
   "version": "3.12.4"
  }
 },
 "nbformat": 4,
 "nbformat_minor": 5
}
